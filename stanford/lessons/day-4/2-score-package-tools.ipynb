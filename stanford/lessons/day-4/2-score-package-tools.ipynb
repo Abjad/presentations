{
 "cells": [
  {
   "cell_type": "markdown",
   "metadata": {},
   "source": [
    "# Managing score packages on the command-line\n",
    "\n",
    "Abjad comes with a number of *command-line tools* which are used outside of the Python interpreter to handle a variety of routine tasks, including:\n",
    "\n",
    "- Building Abjad's API documentation\n",
    "- Running *doctests* (documentation or *docstring* tests)\n",
    "- Collecting statistics on the code-base\n",
    "- Replacing strings\n",
    "- Removing junk and temporary files\n",
    "- Running *abjad-book* to embed notation in LaTeX\n",
    "\n",
    "These tools are grouped as subcommands under the umbrella of Abjad's `ajv` script.\n",
    "\n",
    "Like nearly all command-line tools, written in Python or not, we can pull up documentation about `ajv` by calling it with the `--help` flag.\n",
    "\n",
    "**Note:** The \"`!`\" prefix here tells IPython to run the command not in _Python_ but in _Bash_."
   ]
  },
  {
   "cell_type": "code",
   "execution_count": 2,
   "metadata": {
    "collapsed": false
   },
   "outputs": [
    {
     "name": "stdout",
     "output_type": "stream",
     "text": [
      "usage: abj-dev [-h] [--version]\r\n",
      "               {help,list,api,book,build,clean,doctest,material,replace,score,segment,stats}\r\n",
      "               ...\r\n",
      "\r\n",
      "Entry-point to Abjad developer scripts catalog.\r\n",
      "\r\n",
      "optional arguments:\r\n",
      "  -h, --help            show this help message and exit\r\n",
      "  --version             show program's version number and exit\r\n",
      "\r\n",
      "subcommands:\r\n",
      "  {help,list,api,book,build,clean,doctest,material,replace,score,segment,stats}\r\n",
      "    help                print subcommand help\r\n",
      "    list                list subcommands\r\n",
      "    api                 Build the Abjad APIs.\r\n",
      "    book                Preprocess LaTeX files with Abjad.\r\n",
      "    build               Manage score package build targets.\r\n",
      "    clean               Clean *.pyc, *.swp, __pycache__ and tmp* files and\r\n",
      "                        folders from PATH.\r\n",
      "    doctest             Run doctests on all modules in current path.\r\n",
      "    material            Manage score package materials.\r\n",
      "    replace             Replace text.\r\n",
      "    score               Manage score packages.\r\n",
      "    segment             Manage score package segments.\r\n",
      "    stats               Build statistics about Python modules in PATH.\r\n"
     ]
    }
   ],
   "source": [
    "!ajv --help"
   ]
  },
  {
   "cell_type": "markdown",
   "metadata": {},
   "source": [
    "## Managing scores"
   ]
  },
  {
   "cell_type": "code",
   "execution_count": 3,
   "metadata": {
    "collapsed": false
   },
   "outputs": [
    {
     "name": "stdout",
     "output_type": "stream",
     "text": [
      "usage: manage-score [-h] [--version] --new TITLE [--year YEAR]\r\n",
      "                    [--composer-name NAME] [--composer-email EMAIL]\r\n",
      "                    [--composer-github GITHUB_USERNAME]\r\n",
      "                    [--composer-library LIBRARY_NAME]\r\n",
      "                    [--composer-website WEBSITE] [--force]\r\n",
      "\r\n",
      "Manage score packages.\r\n",
      "\r\n",
      "optional arguments:\r\n",
      "  -h, --help            show this help message and exit\r\n",
      "  --version             show program's version number and exit\r\n",
      "\r\n",
      "actions:\r\n",
      "  --new TITLE, -N TITLE\r\n",
      "                        create a new score\r\n",
      "\r\n",
      "--new options:\r\n",
      "  --year YEAR, -y YEAR\r\n",
      "  --composer-name NAME, -n NAME\r\n",
      "  --composer-email EMAIL, -e EMAIL\r\n",
      "  --composer-github GITHUB_USERNAME, -g GITHUB_USERNAME\r\n",
      "  --composer-library LIBRARY_NAME, -l LIBRARY_NAME\r\n",
      "  --composer-website WEBSITE, -w WEBSITE\r\n",
      "\r\n",
      "common options:\r\n",
      "  --force, -f           force overwriting\r\n"
     ]
    }
   ],
   "source": [
    "!ajv score --help"
   ]
  },
  {
   "cell_type": "markdown",
   "metadata": {},
   "source": [
    "## Managing materials"
   ]
  },
  {
   "cell_type": "code",
   "execution_count": 4,
   "metadata": {
    "collapsed": false
   },
   "outputs": [
    {
     "name": "stdout",
     "output_type": "stream",
     "text": [
      "usage: manage-material [-h] [--version]\r\n",
      "                       (--new NAME | --edit PATTERN [PATTERN ...] | --illustrate PATTERN [PATTERN ...] | --render PATTERN [PATTERN ...] | --list | --copy SOURCE TARGET | --rename SOURCE TARGET | --delete NAME)\r\n",
      "                       [--score-path SCORE] [--force]\r\n",
      "\r\n",
      "Manage score package materials.\r\n",
      "\r\n",
      "optional arguments:\r\n",
      "  -h, --help            show this help message and exit\r\n",
      "  --version             show program's version number and exit\r\n",
      "\r\n",
      "actions:\r\n",
      "  --new NAME, -N NAME   create a new material\r\n",
      "  --edit PATTERN [PATTERN ...], -E PATTERN [PATTERN ...]\r\n",
      "                        edit materials\r\n",
      "  --illustrate PATTERN [PATTERN ...], -I PATTERN [PATTERN ...]\r\n",
      "                        illustrate materials\r\n",
      "  --render PATTERN [PATTERN ...], -R PATTERN [PATTERN ...]\r\n",
      "                        render material illustrations\r\n",
      "  --list, -L            list materials\r\n",
      "  --copy SOURCE TARGET, -Y SOURCE TARGET\r\n",
      "                        copy material\r\n",
      "  --rename SOURCE TARGET, -M SOURCE TARGET\r\n",
      "                        rename material\r\n",
      "  --delete NAME, -D NAME\r\n",
      "                        delete material\r\n",
      "\r\n",
      "common options:\r\n",
      "  --score-path SCORE, -s SCORE\r\n",
      "                        score path or package name\r\n",
      "  --force, -f           force overwriting\r\n"
     ]
    }
   ],
   "source": [
    "!ajv material --help"
   ]
  },
  {
   "cell_type": "markdown",
   "metadata": {},
   "source": [
    "## Managing score segments"
   ]
  },
  {
   "cell_type": "code",
   "execution_count": 5,
   "metadata": {
    "collapsed": false
   },
   "outputs": [
    {
     "name": "stdout",
     "output_type": "stream",
     "text": [
      "usage: manage-segment [-h] [--version]\r\n",
      "                      (--new NAME | --edit [PATTERN [PATTERN ...]] | --illustrate PATTERN [PATTERN ...] | --render PATTERN [PATTERN ...] | --collect | --stage | --list | --copy SOURCE TARGET | --rename SOURCE TARGET | --delete NAME)\r\n",
      "                      [--score-path SCORE] [--force] [-u]\r\n",
      "\r\n",
      "Manage score package segments.\r\n",
      "\r\n",
      "optional arguments:\r\n",
      "  -h, --help            show this help message and exit\r\n",
      "  --version             show program's version number and exit\r\n",
      "\r\n",
      "actions:\r\n",
      "  --new NAME, -N NAME   create a new segment\r\n",
      "  --edit [PATTERN [PATTERN ...]], -E [PATTERN [PATTERN ...]]\r\n",
      "                        edit segments\r\n",
      "  --illustrate PATTERN [PATTERN ...], -I PATTERN [PATTERN ...]\r\n",
      "                        illustrate segments\r\n",
      "  --render PATTERN [PATTERN ...], -R PATTERN [PATTERN ...]\r\n",
      "                        render segment illustrations\r\n",
      "  --collect, -C         collect segment illustrations\r\n",
      "  --stage, -T           stage segments for illustration\r\n",
      "  --list, -L            list segments\r\n",
      "  --copy SOURCE TARGET, -Y SOURCE TARGET\r\n",
      "                        copy segment\r\n",
      "  --rename SOURCE TARGET, -M SOURCE TARGET\r\n",
      "                        rename segment\r\n",
      "  --delete NAME, -D NAME\r\n",
      "                        delete segment\r\n",
      "\r\n",
      "common options:\r\n",
      "  --score-path SCORE, -s SCORE\r\n",
      "                        score path or package name\r\n",
      "  --force, -f           force overwriting\r\n",
      "  -u, --unstaged        Include segments not staged in segments/metadata.json\r\n"
     ]
    }
   ],
   "source": [
    "!ajv segment --help"
   ]
  },
  {
   "cell_type": "markdown",
   "metadata": {},
   "source": [
    "## Managing build targets"
   ]
  },
  {
   "cell_type": "code",
   "execution_count": 6,
   "metadata": {
    "collapsed": false
   },
   "outputs": [
    {
     "name": "stdout",
     "output_type": "stream",
     "text": [
      "usage: manage-build-target [-h] [--version]\r\n",
      "                           (--new [NAME] | --render NAME | --distribute NAME | --list | --copy SOURCE TARGET | --rename SOURCE TARGET | --delete NAME)\r\n",
      "                           [--front-cover] [--back-cover] [--preface]\r\n",
      "                           [--score] [--music] [--parts]\r\n",
      "                           [--paper-size PAPER_SIZE]\r\n",
      "                           [--orientation ORIENTATION] [--score-path SCORE]\r\n",
      "                           [--force]\r\n",
      "\r\n",
      "Manage score package build targets.\r\n",
      "\r\n",
      "optional arguments:\r\n",
      "  -h, --help            show this help message and exit\r\n",
      "  --version             show program's version number and exit\r\n",
      "\r\n",
      "actions:\r\n",
      "  --new [NAME], -N [NAME]\r\n",
      "                        create a new build target\r\n",
      "  --render NAME, -R NAME\r\n",
      "                        render sources\r\n",
      "  --distribute NAME, -U NAME\r\n",
      "                        stage build artifacts for distribution\r\n",
      "  --list, -L            list build targets\r\n",
      "  --copy SOURCE TARGET, -Y SOURCE TARGET\r\n",
      "                        copy build target\r\n",
      "  --rename SOURCE TARGET, -M SOURCE TARGET\r\n",
      "                        rename build target\r\n",
      "  --delete NAME, -D NAME\r\n",
      "                        delete build target\r\n",
      "\r\n",
      "--render flags:\r\n",
      "  Use when rendering specific assets only.\r\n",
      "\r\n",
      "  --front-cover         render the front cover LaTeX source\r\n",
      "  --back-cover          render the back cover LaTeX source\r\n",
      "  --preface             render the preface LaTeX source\r\n",
      "  --score               render the aggregate score LaTeX source\r\n",
      "  --music               render the music LilyPond source\r\n",
      "  --parts               render the parts LilyPond source\r\n",
      "\r\n",
      "--new options:\r\n",
      "  --paper-size PAPER_SIZE\r\n",
      "                        select new build target paper size\r\n",
      "  --orientation ORIENTATION\r\n",
      "                        select new build target orientation\r\n",
      "\r\n",
      "common options:\r\n",
      "  --score-path SCORE, -s SCORE\r\n",
      "                        score path or package name\r\n",
      "  --force, -f           force overwriting\r\n"
     ]
    }
   ],
   "source": [
    "!ajv build --help"
   ]
  },
  {
   "cell_type": "markdown",
   "metadata": {
    "collapsed": true
   },
   "source": [
    "## Creation tasks\n",
    "\n",
    "- Creating scores\n",
    "- Creating materials\n",
    "- Creating segments\n",
    "- Creating build targets"
   ]
  },
  {
   "cell_type": "markdown",
   "metadata": {},
   "source": [
    "## Illustration tasks\n",
    "\n",
    "- Illustrating materials\n",
    "- Illustrating segments"
   ]
  },
  {
   "cell_type": "markdown",
   "metadata": {},
   "source": [
    "## Segment-specific tasks\n",
    "\n",
    "- Staging segments\n",
    "- Collecting segments"
   ]
  },
  {
   "cell_type": "markdown",
   "metadata": {},
   "source": [
    "## Rendering tasks\n",
    "\n",
    "- Rending materials\n",
    "- Rendering segments\n",
    "- Rendering build target assets"
   ]
  },
  {
   "cell_type": "markdown",
   "metadata": {},
   "source": [
    "## File-system-management tasks\n",
    "\n",
    "- Renaming materials, segments and build targets\n",
    "- Copying materials, segments and build targets\n",
    "- Deleting materials, segments and build targets\n",
    "- Editing materials and segments"
   ]
  },
  {
   "cell_type": "markdown",
   "metadata": {},
   "source": [
    "## Composition workflow\n",
    "\n",
    "- Create materials and segments\n",
    "- Edit materials and segments\n",
    "- Staging segments\n",
    "- Illustrating materials and segments\n",
    "- Collecting segments\n",
    "- Creating build targets\n",
    "- Rendering build targets\n",
    "- Distributing build targets"
   ]
  },
  {
   "cell_type": "code",
   "execution_count": null,
   "metadata": {
    "collapsed": true
   },
   "outputs": [],
   "source": []
  }
 ],
 "metadata": {
  "kernelspec": {
   "display_name": "Python 3",
   "language": "python",
   "name": "python3"
  },
  "language_info": {
   "codemirror_mode": {
    "name": "ipython",
    "version": 3
   },
   "file_extension": ".py",
   "mimetype": "text/x-python",
   "name": "python",
   "nbconvert_exporter": "python",
   "pygments_lexer": "ipython3",
   "version": "3.5.1"
  }
 },
 "nbformat": 4,
 "nbformat_minor": 0
}
