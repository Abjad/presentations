{
 "cells": [
  {
   "cell_type": "markdown",
   "metadata": {},
   "source": [
    "# Score package structure\n",
    "\n",
    "Key points to keep in mind during this discussion.\n",
    "\n",
    "- Python code can be organized into module, packages and subpackages.\n",
    "- Python code can import other Python code.\n",
    "- Abjad (Python code) can generate LilyPond code.\n",
    "- LilyPond code can import other LilyPond code.\n",
    "- Settings in LilyPond _cascade_, much like CSS in web development.\n",
    "- LilyPond can concatenate like-named contexts together to create longer musical expressions.\n",
    "- LilyPond can extract music expressions using tags, allowing for easy part extraction.\n",
    "- A single LilyPond file can generate multiple PDFs as output.\n",
    "- LaTeX can combine multiple PDFs into a single PDF."
   ]
  },
  {
   "cell_type": "markdown",
   "metadata": {},
   "source": [
    "**Note:** We'll use the command-line tool `tree` to pretty-print directory structures. The `-a` flag means \"show hidden files\". The `-F` flag causes `tree` to append special characters like `/` to indicate directories. The `-L 1` flag tells `tree` to only drill down one level deep. You can install `tree` on OSX via HomeBrew."
   ]
  },
  {
   "cell_type": "markdown",
   "metadata": {},
   "source": [
    "## The outer score package\n",
    "\n",
    "If scores are built from code, let's structure them just like we would structure any other code: as an installable package."
   ]
  },
  {
   "cell_type": "code",
   "execution_count": 50,
   "metadata": {
    "collapsed": false
   },
   "outputs": [
    {
     "name": "stdout",
     "output_type": "stream",
     "text": [
      "trio_score/\r\n",
      "├── .gitignore\r\n",
      "├── .travis.yml\r\n",
      "├── README.md\r\n",
      "├── requirements.txt\r\n",
      "├── setup.cfg\r\n",
      "├── setup.py\r\n",
      "└── trio_score/\r\n",
      "\r\n",
      "1 directory, 6 files\r\n"
     ]
    }
   ],
   "source": [
    "!tree -a -F -L 1 trio_score/"
   ]
  },
  {
   "cell_type": "markdown",
   "metadata": {},
   "source": [
    "## The inner score package"
   ]
  },
  {
   "cell_type": "code",
   "execution_count": 51,
   "metadata": {
    "collapsed": false
   },
   "outputs": [
    {
     "name": "stdout",
     "output_type": "stream",
     "text": [
      "trio_score/trio_score/\r\n",
      "├── __init__.py\r\n",
      "├── build/\r\n",
      "├── distribution/\r\n",
      "├── etc/\r\n",
      "├── materials/\r\n",
      "├── metadata.json\r\n",
      "├── segments/\r\n",
      "├── stylesheets/\r\n",
      "├── test/\r\n",
      "└── tools/\r\n",
      "\r\n",
      "8 directories, 2 files\r\n"
     ]
    }
   ],
   "source": [
    "!tree -a -F -L 1 trio_score/trio_score/"
   ]
  },
  {
   "cell_type": "markdown",
   "metadata": {},
   "source": [
    "## Materials"
   ]
  },
  {
   "cell_type": "code",
   "execution_count": 53,
   "metadata": {
    "collapsed": false
   },
   "outputs": [
    {
     "name": "stdout",
     "output_type": "stream",
     "text": [
      "trio_score/trio_score/materials/\r\n",
      "├── __init__.py\r\n",
      "├── my_fast_rhythm_maker/\r\n",
      "├── my_pitches/\r\n",
      "└── my_slow_rhythm_maker/\r\n",
      "\r\n",
      "3 directories, 1 file\r\n"
     ]
    }
   ],
   "source": [
    "!tree -F -L 1 trio_score/trio_score/materials/"
   ]
  },
  {
   "cell_type": "code",
   "execution_count": 67,
   "metadata": {
    "collapsed": false
   },
   "outputs": [
    {
     "name": "stdout",
     "output_type": "stream",
     "text": [
      "trio_score/trio_score/materials/my_fast_rhythm_maker/\r\n",
      "├── __init__.py\r\n",
      "├── definition.py\r\n",
      "├── illustration.ly\r\n",
      "└── illustration.pdf\r\n",
      "\r\n",
      "0 directories, 4 files\r\n"
     ]
    }
   ],
   "source": [
    "!tree -F -L 1 trio_score/trio_score/materials/my_fast_rhythm_maker/"
   ]
  },
  {
   "cell_type": "code",
   "execution_count": 65,
   "metadata": {
    "collapsed": false
   },
   "outputs": [
    {
     "name": "stdout",
     "output_type": "stream",
     "text": [
      "# -*- encoding: utf-8 -*-\r\n",
      "from abjad import *\r\n",
      "\r\n",
      "\r\n",
      "my_fast_rhythm_maker = Markup('An example illustrable material.')\r\n"
     ]
    }
   ],
   "source": [
    "!cat trio_score/trio_score/materials/my_fast_rhythm_maker/definition.py"
   ]
  },
  {
   "cell_type": "code",
   "execution_count": 66,
   "metadata": {
    "collapsed": true
   },
   "outputs": [],
   "source": [
    "!python trio_score/trio_score/materials/my_fast_rhythm_maker/definition.py"
   ]
  },
  {
   "cell_type": "markdown",
   "metadata": {},
   "source": [
    "## Tools"
   ]
  },
  {
   "cell_type": "code",
   "execution_count": 52,
   "metadata": {
    "collapsed": false,
    "scrolled": true
   },
   "outputs": [
    {
     "name": "stdout",
     "output_type": "stream",
     "text": [
      "trio_score/trio_score/tools/\r\n",
      "├── ScoreTemplate.py\r\n",
      "├── SegmentMaker.py\r\n",
      "└── __init__.py\r\n",
      "\r\n",
      "0 directories, 3 files\r\n"
     ]
    }
   ],
   "source": [
    "!tree -F trio_score/trio_score/tools/"
   ]
  },
  {
   "cell_type": "code",
   "execution_count": 68,
   "metadata": {
    "collapsed": false
   },
   "outputs": [
    {
     "name": "stdout",
     "output_type": "stream",
     "text": [
      "# -*- coding: utf-8 -*-\r\n",
      "from abjad import Score, Staff, Voice\r\n",
      "from abjad.tools import abctools\r\n",
      "\r\n",
      "\r\n",
      "class ScoreTemplate(abctools.AbjadObject):\r\n",
      "\r\n",
      "    def __call__(self):\r\n",
      "        voice = Voice(name='Example Voice')\r\n",
      "        staff = Staff([voice], name='Example Staff')\r\n",
      "        score = Score([staff], name='Example Score')\r\n",
      "        return score\r\n"
     ]
    }
   ],
   "source": [
    "!cat trio_score/trio_score/tools/ScoreTemplate.py"
   ]
  },
  {
   "cell_type": "code",
   "execution_count": 69,
   "metadata": {
    "collapsed": false
   },
   "outputs": [
    {
     "name": "stdout",
     "output_type": "stream",
     "text": [
      "# -*- coding: utf-8 -*-\r\n",
      "from abjad.tools import abctools\r\n",
      "from abjad.tools import lilypondfiletools\r\n",
      "from trio_score.tools import ScoreTemplate\r\n",
      "\r\n",
      "\r\n",
      "class SegmentMaker(abctools.AbjadObject):\r\n",
      "\r\n",
      "    def __init__(self):\r\n",
      "        self.score_template = ScoreTemplate()\r\n",
      "\r\n",
      "    def __call__(\r\n",
      "        self,\r\n",
      "        segment_metadata=None,\r\n",
      "        previous_segment_metadata=None,\r\n",
      "        ):\r\n",
      "        score = self.score_template()\r\n",
      "        score['Example Voice'].extend(\"c'4 ( d'4 e'4 f'4 )\")\r\n",
      "        lilypond_file = lilypondfiletools.make_basic_lilypond_file(\r\n",
      "            score,\r\n",
      "            includes=['../../stylesheets/stylesheet.ily'],\r\n",
      "            )\r\n",
      "        return lilypond_file, segment_metadata\r\n"
     ]
    }
   ],
   "source": [
    "!cat trio_score/trio_score/tools/SegmentMaker.py"
   ]
  },
  {
   "cell_type": "markdown",
   "metadata": {},
   "source": [
    "## Segments"
   ]
  },
  {
   "cell_type": "code",
   "execution_count": 55,
   "metadata": {
    "collapsed": false
   },
   "outputs": [
    {
     "name": "stdout",
     "output_type": "stream",
     "text": [
      "trio_score/trio_score/segments/\r\n",
      "├── __init__.py\r\n",
      "├── metadata.json\r\n",
      "├── section_one/\r\n",
      "├── section_three/\r\n",
      "└── section_two/\r\n",
      "\r\n",
      "3 directories, 2 files\r\n"
     ]
    }
   ],
   "source": [
    "!tree -F -L 1 trio_score/trio_score/segments/"
   ]
  },
  {
   "cell_type": "code",
   "execution_count": 56,
   "metadata": {
    "collapsed": false
   },
   "outputs": [
    {
     "name": "stdout",
     "output_type": "stream",
     "text": [
      "trio_score/trio_score/segments/section_one/\r\n",
      "├── __init__.py\r\n",
      "├── definition.py\r\n",
      "├── illustration.ly\r\n",
      "├── illustration.pdf\r\n",
      "└── metadata.json\r\n",
      "\r\n",
      "0 directories, 5 files\r\n"
     ]
    }
   ],
   "source": [
    "!tree -F -L 1 trio_score/trio_score/segments/section_one/"
   ]
  },
  {
   "cell_type": "code",
   "execution_count": 70,
   "metadata": {
    "collapsed": false
   },
   "outputs": [
    {
     "name": "stdout",
     "output_type": "stream",
     "text": [
      "# -*- encoding: utf-8 -*-\r\n",
      "from abjad import *\r\n",
      "from trio_score.tools import SegmentMaker\r\n",
      "\r\n",
      "\r\n",
      "segment_maker = SegmentMaker()\r\n"
     ]
    }
   ],
   "source": [
    "!cat trio_score/trio_score/segments/section_one/definition.py"
   ]
  },
  {
   "cell_type": "markdown",
   "metadata": {},
   "source": [
    "## Stylesheets"
   ]
  },
  {
   "cell_type": "code",
   "execution_count": 57,
   "metadata": {
    "collapsed": false
   },
   "outputs": [
    {
     "name": "stdout",
     "output_type": "stream",
     "text": [
      "trio_score/trio_score/stylesheets/\r\n",
      "├── nonfirst-segment.ily\r\n",
      "├── parts.ily\r\n",
      "└── stylesheet.ily\r\n",
      "\r\n",
      "0 directories, 3 files\r\n"
     ]
    }
   ],
   "source": [
    "!tree -F trio_score/trio_score/stylesheets/"
   ]
  },
  {
   "cell_type": "code",
   "execution_count": 72,
   "metadata": {
    "collapsed": false
   },
   "outputs": [
    {
     "name": "stdout",
     "output_type": "stream",
     "text": [
      "#(set-default-paper-size \"letter\" 'portrait)\r\n",
      "#(set-global-staff-size 12)\r\n",
      "\r\n",
      "\\header {\r\n",
      "}\r\n",
      "\r\n",
      "\\paper {\r\n",
      "}\r\n",
      "\r\n",
      "\\layout {\r\n",
      "}"
     ]
    }
   ],
   "source": [
    "!cat trio_score/trio_score/stylesheets/stylesheet.ily"
   ]
  },
  {
   "cell_type": "code",
   "execution_count": 71,
   "metadata": {
    "collapsed": false
   },
   "outputs": [
    {
     "name": "stdout",
     "output_type": "stream",
     "text": [
      "\\paper {\r\n",
      "}\r\n",
      "\r\n",
      "\\layout {\r\n",
      "}"
     ]
    }
   ],
   "source": [
    "!cat trio_score/trio_score/stylesheets/parts.ily"
   ]
  },
  {
   "cell_type": "markdown",
   "metadata": {},
   "source": [
    "## The build directory"
   ]
  },
  {
   "cell_type": "code",
   "execution_count": 64,
   "metadata": {
    "collapsed": false
   },
   "outputs": [
    {
     "name": "stdout",
     "output_type": "stream",
     "text": [
      "trio_score/trio_score/build/\r\n",
      "├── assets/\r\n",
      "│   ├── instrumentation.tex\r\n",
      "│   └── performance-notes.tex\r\n",
      "├── letter-portrait/\r\n",
      "│   ├── Makefile\r\n",
      "│   ├── back-cover.tex\r\n",
      "│   ├── front-cover.tex\r\n",
      "│   ├── music.ly\r\n",
      "│   ├── parts.ly\r\n",
      "│   ├── preface.tex\r\n",
      "│   └── score.tex\r\n",
      "├── parts.ily\r\n",
      "├── segments/\r\n",
      "│   ├── section-one.ily\r\n",
      "│   ├── section-three.ily\r\n",
      "│   └── section-two.ily\r\n",
      "└── segments.ily\r\n",
      "\r\n",
      "3 directories, 14 files\r\n"
     ]
    }
   ],
   "source": [
    "!tree -F trio_score/trio_score/build/"
   ]
  },
  {
   "cell_type": "code",
   "execution_count": 76,
   "metadata": {
    "collapsed": false
   },
   "outputs": [
    {
     "name": "stdout",
     "output_type": "stream",
     "text": [
      "{\r\n",
      "    \\include \"../segments/section-one.ily\"\r\n",
      "    \\include \"../segments/section-two.ily\"\r\n",
      "    \\include \"../segments/section-three.ily\"\r\n",
      "}\r\n"
     ]
    }
   ],
   "source": [
    "!cat trio_score/trio_score/build/segments.ily"
   ]
  },
  {
   "cell_type": "code",
   "execution_count": 75,
   "metadata": {
    "collapsed": false
   },
   "outputs": [
    {
     "name": "stdout",
     "output_type": "stream",
     "text": [
      "\r\n"
     ]
    }
   ],
   "source": [
    "!cat trio_score/trio_score/build/parts.ily"
   ]
  },
  {
   "cell_type": "markdown",
   "metadata": {},
   "source": [
    "## Anatomy of a build target"
   ]
  },
  {
   "cell_type": "code",
   "execution_count": 77,
   "metadata": {
    "collapsed": false
   },
   "outputs": [
    {
     "name": "stdout",
     "output_type": "stream",
     "text": [
      "trio_score/trio_score/build/letter-portrait/\r\n",
      "├── Makefile\r\n",
      "├── back-cover.tex\r\n",
      "├── front-cover.tex\r\n",
      "├── music.ly\r\n",
      "├── parts.ly\r\n",
      "├── preface.tex\r\n",
      "└── score.tex\r\n",
      "\r\n",
      "0 directories, 7 files\r\n"
     ]
    }
   ],
   "source": [
    "!tree -F trio_score/trio_score/build/letter-portrait/"
   ]
  },
  {
   "cell_type": "markdown",
   "metadata": {},
   "source": [
    "## Other directories"
   ]
  },
  {
   "cell_type": "code",
   "execution_count": 59,
   "metadata": {
    "collapsed": false
   },
   "outputs": [
    {
     "name": "stdout",
     "output_type": "stream",
     "text": [
      "trio_score/trio_score/distribution/\r\n",
      "\r\n",
      "0 directories, 0 files\r\n"
     ]
    }
   ],
   "source": [
    "!tree -F trio_score/trio_score/distribution/"
   ]
  },
  {
   "cell_type": "code",
   "execution_count": 60,
   "metadata": {
    "collapsed": false
   },
   "outputs": [
    {
     "name": "stdout",
     "output_type": "stream",
     "text": [
      "trio_score/trio_score/etc/\r\n",
      "\r\n",
      "0 directories, 0 files\r\n"
     ]
    }
   ],
   "source": [
    "!tree -F trio_score/trio_score/etc/"
   ]
  },
  {
   "cell_type": "code",
   "execution_count": 61,
   "metadata": {
    "collapsed": false
   },
   "outputs": [
    {
     "name": "stdout",
     "output_type": "stream",
     "text": [
      "trio_score/trio_score/test/\r\n",
      "├── test_materials.py\r\n",
      "└── test_segments.py\r\n",
      "\r\n",
      "0 directories, 2 files\r\n"
     ]
    }
   ],
   "source": [
    "!tree -F trio_score/trio_score/test/"
   ]
  },
  {
   "cell_type": "markdown",
   "metadata": {},
   "source": [
    "## Putting it all together"
   ]
  },
  {
   "cell_type": "code",
   "execution_count": 63,
   "metadata": {
    "collapsed": false
   },
   "outputs": [
    {
     "name": "stdout",
     "output_type": "stream",
     "text": [
      "trio_score/\r\n",
      "├── README.md\r\n",
      "├── requirements.txt\r\n",
      "├── setup.cfg\r\n",
      "├── setup.py\r\n",
      "└── trio_score/\r\n",
      "    ├── __init__.py\r\n",
      "    ├── build/\r\n",
      "    │   ├── assets/\r\n",
      "    │   │   ├── instrumentation.tex\r\n",
      "    │   │   └── performance-notes.tex\r\n",
      "    │   ├── letter-portrait/\r\n",
      "    │   │   ├── Makefile\r\n",
      "    │   │   ├── back-cover.tex\r\n",
      "    │   │   ├── front-cover.tex\r\n",
      "    │   │   ├── music.ly\r\n",
      "    │   │   ├── parts.ly\r\n",
      "    │   │   ├── preface.tex\r\n",
      "    │   │   └── score.tex\r\n",
      "    │   ├── parts.ily\r\n",
      "    │   ├── segments/\r\n",
      "    │   │   ├── section-one.ily\r\n",
      "    │   │   ├── section-three.ily\r\n",
      "    │   │   └── section-two.ily\r\n",
      "    │   └── segments.ily\r\n",
      "    ├── distribution/\r\n",
      "    ├── etc/\r\n",
      "    ├── materials/\r\n",
      "    │   ├── __init__.py\r\n",
      "    │   ├── my_fast_rhythm_maker/\r\n",
      "    │   │   ├── __init__.py\r\n",
      "    │   │   ├── definition.py\r\n",
      "    │   │   ├── illustration.ly\r\n",
      "    │   │   └── illustration.pdf\r\n",
      "    │   ├── my_pitches/\r\n",
      "    │   │   ├── __init__.py\r\n",
      "    │   │   ├── definition.py\r\n",
      "    │   │   ├── illustration.ly\r\n",
      "    │   │   └── illustration.pdf\r\n",
      "    │   └── my_slow_rhythm_maker/\r\n",
      "    │       ├── __init__.py\r\n",
      "    │       ├── definition.py\r\n",
      "    │       ├── illustration.ly\r\n",
      "    │       └── illustration.pdf\r\n",
      "    ├── metadata.json\r\n",
      "    ├── segments/\r\n",
      "    │   ├── __init__.py\r\n",
      "    │   ├── metadata.json\r\n",
      "    │   ├── section_one/\r\n",
      "    │   │   ├── __init__.py\r\n",
      "    │   │   ├── definition.py\r\n",
      "    │   │   ├── illustration.ly\r\n",
      "    │   │   ├── illustration.pdf\r\n",
      "    │   │   └── metadata.json\r\n",
      "    │   ├── section_three/\r\n",
      "    │   │   ├── __init__.py\r\n",
      "    │   │   ├── definition.py\r\n",
      "    │   │   ├── illustration.ly\r\n",
      "    │   │   ├── illustration.pdf\r\n",
      "    │   │   └── metadata.json\r\n",
      "    │   └── section_two/\r\n",
      "    │       ├── __init__.py\r\n",
      "    │       ├── definition.py\r\n",
      "    │       ├── illustration.ly\r\n",
      "    │       ├── illustration.pdf\r\n",
      "    │       └── metadata.json\r\n",
      "    ├── stylesheets/\r\n",
      "    │   ├── nonfirst-segment.ily\r\n",
      "    │   ├── parts.ily\r\n",
      "    │   └── stylesheet.ily\r\n",
      "    ├── test/\r\n",
      "    │   ├── test_materials.py\r\n",
      "    │   └── test_segments.py\r\n",
      "    └── tools/\r\n",
      "        ├── ScoreTemplate.py\r\n",
      "        ├── SegmentMaker.py\r\n",
      "        └── __init__.py\r\n",
      "\r\n",
      "18 directories, 58 files\r\n"
     ]
    }
   ],
   "source": [
    "!tree -F trio_score/"
   ]
  },
  {
   "cell_type": "markdown",
   "metadata": {},
   "source": [
    "## LilyPond part extraction"
   ]
  },
  {
   "cell_type": "markdown",
   "metadata": {},
   "source": [
    "## LilyPond context concatenation"
   ]
  },
  {
   "cell_type": "code",
   "execution_count": null,
   "metadata": {
    "collapsed": true
   },
   "outputs": [],
   "source": []
  }
 ],
 "metadata": {
  "kernelspec": {
   "display_name": "Python 3",
   "language": "python",
   "name": "python3"
  },
  "language_info": {
   "codemirror_mode": {
    "name": "ipython",
    "version": 3
   },
   "file_extension": ".py",
   "mimetype": "text/x-python",
   "name": "python",
   "nbconvert_exporter": "python",
   "pygments_lexer": "ipython3",
   "version": "3.5.1"
  }
 },
 "nbformat": 4,
 "nbformat_minor": 0
}
