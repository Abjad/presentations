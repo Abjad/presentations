{
 "cells": [
  {
   "cell_type": "markdown",
   "metadata": {},
   "source": [
    "# Score package structure"
   ]
  },
  {
   "cell_type": "markdown",
   "metadata": {},
   "source": []
  },
  {
   "cell_type": "markdown",
   "metadata": {},
   "source": [
    "**Note:** We'll use the command-line tool `tree` to pretty-print directory structures. The `-a` flag means \"show hidden files\". The `-F` flag causes `tree` to append special characters like `/` to indicate directories. The `-L 1` flag tells `tree` to only drill down one level deep. You can install `tree` on OSX via HomeBrew."
   ]
  },
  {
   "cell_type": "markdown",
   "metadata": {},
   "source": [
    "## The outer score package\n",
    "\n",
    "If scores are built from code, let's structure them just like we would structure any other code: as an installable package."
   ]
  },
  {
   "cell_type": "code",
   "execution_count": 25,
   "metadata": {
    "collapsed": false
   },
   "outputs": [
    {
     "name": "stdout",
     "output_type": "stream",
     "text": [
      "trio_score/\r\n",
      "├── .gitignore\r\n",
      "├── .travis.yml\r\n",
      "├── README.md\r\n",
      "├── requirements.txt\r\n",
      "├── setup.cfg\r\n",
      "├── setup.py\r\n",
      "└── trio_score/\r\n",
      "\r\n",
      "1 directory, 6 files\r\n"
     ]
    }
   ],
   "source": [
    "!tree -a -F -L 1 trio_score/"
   ]
  },
  {
   "cell_type": "markdown",
   "metadata": {},
   "source": [
    "## The inner score package"
   ]
  },
  {
   "cell_type": "code",
   "execution_count": 36,
   "metadata": {
    "collapsed": false
   },
   "outputs": [
    {
     "name": "stdout",
     "output_type": "stream",
     "text": [
      "trio_score/trio_score/\r\n",
      "├── __init__.py\r\n",
      "├── build/\r\n",
      "├── distribution/\r\n",
      "├── etc/\r\n",
      "├── materials/\r\n",
      "├── metadata.json\r\n",
      "├── segments/\r\n",
      "├── stylesheets/\r\n",
      "├── test/\r\n",
      "└── tools/\r\n",
      "\r\n",
      "8 directories, 2 files\r\n"
     ]
    }
   ],
   "source": [
    "!tree -a -F -L 1 trio_score/trio_score/"
   ]
  },
  {
   "cell_type": "markdown",
   "metadata": {},
   "source": [
    "## Tools"
   ]
  },
  {
   "cell_type": "code",
   "execution_count": 48,
   "metadata": {
    "collapsed": false
   },
   "outputs": [
    {
     "name": "stdout",
     "output_type": "stream",
     "text": [
      "trio_score/trio_score/tools/\r\n",
      "├── ScoreTemplate.py\r\n",
      "├── SegmentMaker.py\r\n",
      "└── __init__.py\r\n",
      "\r\n",
      "0 directories, 3 files\r\n"
     ]
    }
   ],
   "source": [
    "!tree -F trio_score/trio_score/tools/"
   ]
  },
  {
   "cell_type": "markdown",
   "metadata": {},
   "source": [
    "## Materials"
   ]
  },
  {
   "cell_type": "code",
   "execution_count": 47,
   "metadata": {
    "collapsed": false
   },
   "outputs": [
    {
     "name": "stdout",
     "output_type": "stream",
     "text": [
      "trio_score/trio_score/materials/\r\n",
      "├── __init__.py\r\n",
      "├── my_fast_rhythm_maker/\r\n",
      "├── my_pitches/\r\n",
      "└── my_slow_rhythm_maker/\r\n",
      "\r\n",
      "3 directories, 1 file\r\n"
     ]
    }
   ],
   "source": [
    "!tree -F -L 1 trio_score/trio_score/materials/"
   ]
  },
  {
   "cell_type": "code",
   "execution_count": 46,
   "metadata": {
    "collapsed": false
   },
   "outputs": [
    {
     "name": "stdout",
     "output_type": "stream",
     "text": [
      "trio_score/trio_score/materials/my_fast_rhythm_maker/\r\n",
      "├── __init__.py\r\n",
      "├── definition.py\r\n",
      "├── illustration.ly\r\n",
      "└── illustration.pdf\r\n",
      "\r\n",
      "0 directories, 4 files\r\n"
     ]
    }
   ],
   "source": [
    "!tree -F -L 1 trio_score/trio_score/materials/my_fast_rhythm_maker/"
   ]
  },
  {
   "cell_type": "markdown",
   "metadata": {},
   "source": [
    "## Segments"
   ]
  },
  {
   "cell_type": "code",
   "execution_count": 45,
   "metadata": {
    "collapsed": false
   },
   "outputs": [
    {
     "name": "stdout",
     "output_type": "stream",
     "text": [
      "trio_score/trio_score/segments/\r\n",
      "├── __init__.py\r\n",
      "├── metadata.json\r\n",
      "├── section_one/\r\n",
      "├── section_three/\r\n",
      "└── section_two/\r\n",
      "\r\n",
      "3 directories, 2 files\r\n"
     ]
    }
   ],
   "source": [
    "!tree -F -L 1 trio_score/trio_score/segments/"
   ]
  },
  {
   "cell_type": "code",
   "execution_count": 44,
   "metadata": {
    "collapsed": false
   },
   "outputs": [
    {
     "name": "stdout",
     "output_type": "stream",
     "text": [
      "trio_score/trio_score/segments/section_one/\r\n",
      "├── __init__.py\r\n",
      "├── definition.py\r\n",
      "├── illustration.ly\r\n",
      "├── illustration.pdf\r\n",
      "└── metadata.json\r\n",
      "\r\n",
      "0 directories, 5 files\r\n"
     ]
    }
   ],
   "source": [
    "!tree -F -L 1 trio_score/trio_score/segments/section_one/"
   ]
  },
  {
   "cell_type": "markdown",
   "metadata": {},
   "source": [
    "## Stylesheets"
   ]
  },
  {
   "cell_type": "code",
   "execution_count": 30,
   "metadata": {
    "collapsed": false
   },
   "outputs": [
    {
     "name": "stdout",
     "output_type": "stream",
     "text": [
      "trio_score/trio_score/stylesheets/\r\n",
      "├── nonfirst-segment.ily\r\n",
      "├── parts.ily\r\n",
      "└── stylesheet.ily\r\n",
      "\r\n",
      "0 directories, 3 files\r\n"
     ]
    }
   ],
   "source": [
    "!tree -F trio_score/trio_score/stylesheets/"
   ]
  },
  {
   "cell_type": "markdown",
   "metadata": {},
   "source": [
    "## Build targets"
   ]
  },
  {
   "cell_type": "code",
   "execution_count": 31,
   "metadata": {
    "collapsed": false
   },
   "outputs": [
    {
     "name": "stdout",
     "output_type": "stream",
     "text": [
      "trio_score/trio_score/build/\r\n",
      "├── assets/\r\n",
      "│   ├── instrumentation.tex\r\n",
      "│   └── performance-notes.tex\r\n",
      "├── letter-portrait/\r\n",
      "│   ├── Makefile\r\n",
      "│   ├── back-cover.tex\r\n",
      "│   ├── front-cover.tex\r\n",
      "│   ├── music.ly\r\n",
      "│   ├── parts.ly\r\n",
      "│   ├── preface.tex\r\n",
      "│   └── score.tex\r\n",
      "├── parts.ily\r\n",
      "├── segments/\r\n",
      "└── segments.ily\r\n",
      "\r\n",
      "3 directories, 11 files\r\n"
     ]
    }
   ],
   "source": [
    "!tree -F trio_score/trio_score/build/"
   ]
  },
  {
   "cell_type": "markdown",
   "metadata": {},
   "source": [
    "## Other directories"
   ]
  },
  {
   "cell_type": "code",
   "execution_count": 33,
   "metadata": {
    "collapsed": false
   },
   "outputs": [
    {
     "name": "stdout",
     "output_type": "stream",
     "text": [
      "trio_score/trio_score/distribution/\r\n",
      "\r\n",
      "0 directories, 0 files\r\n"
     ]
    }
   ],
   "source": [
    "!tree -F trio_score/trio_score/distribution/"
   ]
  },
  {
   "cell_type": "code",
   "execution_count": 34,
   "metadata": {
    "collapsed": false
   },
   "outputs": [
    {
     "name": "stdout",
     "output_type": "stream",
     "text": [
      "trio_score/trio_score/etc/\r\n",
      "\r\n",
      "0 directories, 0 files\r\n"
     ]
    }
   ],
   "source": [
    "!tree -F trio_score/trio_score/etc/"
   ]
  },
  {
   "cell_type": "code",
   "execution_count": 35,
   "metadata": {
    "collapsed": false
   },
   "outputs": [
    {
     "name": "stdout",
     "output_type": "stream",
     "text": [
      "trio_score/trio_score/test/\r\n",
      "├── test_materials.py\r\n",
      "└── test_segments.py\r\n",
      "\r\n",
      "0 directories, 2 files\r\n"
     ]
    }
   ],
   "source": [
    "!tree -F trio_score/trio_score/test/"
   ]
  },
  {
   "cell_type": "markdown",
   "metadata": {},
   "source": [
    "## Putting it all together"
   ]
  },
  {
   "cell_type": "code",
   "execution_count": 49,
   "metadata": {
    "collapsed": false
   },
   "outputs": [
    {
     "name": "stdout",
     "output_type": "stream",
     "text": [
      "trio_score/\r\n",
      "├── README.md\r\n",
      "├── requirements.txt\r\n",
      "├── setup.cfg\r\n",
      "├── setup.py\r\n",
      "└── trio_score/\r\n",
      "    ├── __init__.py\r\n",
      "    ├── build/\r\n",
      "    │   ├── assets/\r\n",
      "    │   │   ├── instrumentation.tex\r\n",
      "    │   │   └── performance-notes.tex\r\n",
      "    │   ├── letter-portrait/\r\n",
      "    │   │   ├── Makefile\r\n",
      "    │   │   ├── back-cover.tex\r\n",
      "    │   │   ├── front-cover.tex\r\n",
      "    │   │   ├── music.ly\r\n",
      "    │   │   ├── parts.ly\r\n",
      "    │   │   ├── preface.tex\r\n",
      "    │   │   └── score.tex\r\n",
      "    │   ├── parts.ily\r\n",
      "    │   ├── segments/\r\n",
      "    │   └── segments.ily\r\n",
      "    ├── distribution/\r\n",
      "    ├── etc/\r\n",
      "    ├── materials/\r\n",
      "    │   ├── __init__.py\r\n",
      "    │   ├── my_fast_rhythm_maker/\r\n",
      "    │   │   ├── __init__.py\r\n",
      "    │   │   ├── definition.py\r\n",
      "    │   │   ├── illustration.ly\r\n",
      "    │   │   └── illustration.pdf\r\n",
      "    │   ├── my_pitches/\r\n",
      "    │   │   ├── __init__.py\r\n",
      "    │   │   ├── definition.py\r\n",
      "    │   │   ├── illustration.ly\r\n",
      "    │   │   └── illustration.pdf\r\n",
      "    │   └── my_slow_rhythm_maker/\r\n",
      "    │       ├── __init__.py\r\n",
      "    │       ├── definition.py\r\n",
      "    │       ├── illustration.ly\r\n",
      "    │       └── illustration.pdf\r\n",
      "    ├── metadata.json\r\n",
      "    ├── segments/\r\n",
      "    │   ├── __init__.py\r\n",
      "    │   ├── metadata.json\r\n",
      "    │   ├── section_one/\r\n",
      "    │   │   ├── __init__.py\r\n",
      "    │   │   ├── definition.py\r\n",
      "    │   │   ├── illustration.ly\r\n",
      "    │   │   ├── illustration.pdf\r\n",
      "    │   │   └── metadata.json\r\n",
      "    │   ├── section_three/\r\n",
      "    │   │   ├── __init__.py\r\n",
      "    │   │   ├── definition.py\r\n",
      "    │   │   ├── illustration.ly\r\n",
      "    │   │   ├── illustration.pdf\r\n",
      "    │   │   └── metadata.json\r\n",
      "    │   └── section_two/\r\n",
      "    │       ├── __init__.py\r\n",
      "    │       ├── definition.py\r\n",
      "    │       ├── illustration.ly\r\n",
      "    │       ├── illustration.pdf\r\n",
      "    │       └── metadata.json\r\n",
      "    ├── stylesheets/\r\n",
      "    │   ├── nonfirst-segment.ily\r\n",
      "    │   ├── parts.ily\r\n",
      "    │   └── stylesheet.ily\r\n",
      "    ├── test/\r\n",
      "    │   ├── test_materials.py\r\n",
      "    │   └── test_segments.py\r\n",
      "    └── tools/\r\n",
      "        ├── ScoreTemplate.py\r\n",
      "        ├── SegmentMaker.py\r\n",
      "        └── __init__.py\r\n",
      "\r\n",
      "18 directories, 55 files\r\n"
     ]
    }
   ],
   "source": [
    "!tree -F trio_score/"
   ]
  },
  {
   "cell_type": "code",
   "execution_count": null,
   "metadata": {
    "collapsed": true
   },
   "outputs": [],
   "source": []
  }
 ],
 "metadata": {
  "kernelspec": {
   "display_name": "Python 3",
   "language": "python",
   "name": "python3"
  },
  "language_info": {
   "codemirror_mode": {
    "name": "ipython",
    "version": 3
   },
   "file_extension": ".py",
   "mimetype": "text/x-python",
   "name": "python",
   "nbconvert_exporter": "python",
   "pygments_lexer": "ipython3",
   "version": "3.5.1"
  }
 },
 "nbformat": 4,
 "nbformat_minor": 0
}
